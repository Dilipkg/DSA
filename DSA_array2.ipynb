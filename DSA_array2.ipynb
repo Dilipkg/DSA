{
 "cells": [
  {
   "cell_type": "markdown",
   "id": "c7b022de-71ca-4de3-8e6c-84ec56c84707",
   "metadata": {},
   "source": [
    "Q1.\n",
    "def arraysum(nums):\n",
    "    nums.sort()\n",
    "    maxsum=0\n",
    "    for i in range (0,len(nums),2):\n",
    "        maxsum += nums[i]\n",
    "    return maxsum\n",
    "nums = [1, 4, 3, 2]\n",
    "result = arraysum(nums)\n",
    "print(result)"
   ]
  },
  {
   "cell_type": "markdown",
   "id": "46e32447-86e3-40f2-8045-9ef113f59967",
   "metadata": {},
   "source": [
    "Q2.\n",
    "def distributeCandies(candyType):\n",
    "    unique_candies = len(set(candyType))\n",
    "    max_candies = len(candyType) // 2\n",
    "    return min(unique_candies, max_candies)\n",
    "\n",
    "candyType = [1, 1, 2, 2, 3, 3]\n",
    "result = distributeCandies(candyType)\n",
    "print(result)"
   ]
  },
  {
   "cell_type": "markdown",
   "id": "a003180a-9d72-4b87-a357-1266ca07c2b2",
   "metadata": {},
   "source": [
    "Q3.\n",
    "from collections import Counter\n",
    "\n",
    "def findLHS(nums):\n",
    "    frequency = Counter(nums)\n",
    "    max_length = 0\n",
    "\n",
    "    for num in frequency:\n",
    "        if num + 1 in frequency:\n",
    "            length = frequency[num] + frequency[num + 1]\n",
    "            max_length = max(max_length, length)\n",
    "\n",
    "    return max_length\n",
    "nums = [1, 3, 2, 2, 5, 2, 3, 7]\n",
    "result = findLHS(nums)\n",
    "print(result)\n"
   ]
  },
  {
   "cell_type": "markdown",
   "id": "b860f2b2-cfb6-44c4-a41e-c690b581d4d8",
   "metadata": {},
   "source": [
    "Q4.\n",
    "def canPlaceFlowers(flowerbed, n):\n",
    "    count = 0\n",
    "    i = 0\n",
    "    size = len(flowerbed)\n",
    "\n",
    "    while i < size:\n",
    "        if flowerbed[i] == 0 and (i == 0 or flowerbed[i - 1] == 0) and (i == size - 1 or flowerbed[i + 1] == 0):\n",
    "            count += 1\n",
    "            flowerbed[i] = 1\n",
    "            n -= 1\n",
    "\n",
    "        i += 1\n",
    "\n",
    "    return count >= n\n",
    "flowerbed = [1, 0, 0, 0, 1]\n",
    "n = 1\n",
    "result = canPlaceFlowers(flowerbed, n)\n",
    "print(result)\n"
   ]
  },
  {
   "cell_type": "markdown",
   "id": "3aecd8f0-84db-4c27-a481-ea4a257bc585",
   "metadata": {},
   "source": [
    "\n",
    "Q5.\n",
    "def maximumProduct(nums):\n",
    "    nums.sort()\n",
    "    product1 = nums[-1] * nums[-2] * nums[-3]\n",
    "    product2 = nums[0] * nums[1] * nums[-1]\n",
    "    return max(product1, product2)\n",
    "nums = [1, 2, 3]\n",
    "result = maximumProduct(nums)\n",
    "print(result)"
   ]
  },
  {
   "cell_type": "markdown",
   "id": "2d66d891-c378-4a5a-8510-20c976d83754",
   "metadata": {},
   "source": [
    "Q6\n",
    "def search(nums, target):\n",
    "    left = 0\n",
    "    right = len(nums) - 1\n",
    "\n",
    "    while left <= right:\n",
    "        mid = (left + right) // 2\n",
    "\n",
    "        if nums[mid] == target:\n",
    "            return mid\n",
    "        elif nums[mid] > target:\n",
    "            right = mid - 1\n",
    "        else:\n",
    "            left = mid + 1\n",
    "\n",
    "    return -1\n",
    "nums = [-1, 0, 3, 5, 9, 12]\n",
    "target = 9\n",
    "result = search(nums, target)\n",
    "print(result)\n"
   ]
  },
  {
   "cell_type": "markdown",
   "id": "0880f77d-0e9f-494f-a16d-fe5a3b9f0d2f",
   "metadata": {},
   "source": [
    "Q7.\n",
    "def monotonic(nums):\n",
    "    increasing=True\n",
    "    decreasing=True\n",
    "    for i in range(1,len(nums)):\n",
    "        if nums[i]<nums[i-1]:\n",
    "            increasing=False\n",
    "        if nums[i]>nums[i-1]:\n",
    "            decreasing=False\n",
    "        \n",
    "    return increasing or decreasing\n",
    "\n",
    "nums = [1,2,2,3]\n",
    "result=monotonic(nums)\n",
    "print(result)"
   ]
  },
  {
   "cell_type": "markdown",
   "id": "67c06825-df14-4af9-81d1-cd97388634cb",
   "metadata": {},
   "source": [
    "Q8.\n",
    "def minimumScore(nums,k):\n",
    "    nums.sort()\n",
    "    n=len(nums)\n",
    "    min_val=nums[0]\n",
    "    max_val=nums[-1]\n",
    "    for i in range(n-1):\n",
    "        new_min=min(nums[i+1]-k,min_val+k)\n",
    "        new_max=max(nums[i]+k,max_val-k)\n",
    "        min_val=new_min\n",
    "        max_val=new_max\n",
    "        if min_val> max_val:\n",
    "            return 0\n",
    "    return max_val - min_val\n",
    "nums=[1]\n",
    "k=0\n",
    "print(minimumScore(nums,k))"
   ]
  },
  {
   "cell_type": "code",
   "execution_count": null,
   "id": "3034deb6-480b-4c78-a667-30632126d513",
   "metadata": {},
   "outputs": [],
   "source": []
  }
 ],
 "metadata": {
  "kernelspec": {
   "display_name": "Python 3 (ipykernel)",
   "language": "python",
   "name": "python3"
  },
  "language_info": {
   "codemirror_mode": {
    "name": "ipython",
    "version": 3
   },
   "file_extension": ".py",
   "mimetype": "text/x-python",
   "name": "python",
   "nbconvert_exporter": "python",
   "pygments_lexer": "ipython3",
   "version": "3.10.8"
  }
 },
 "nbformat": 4,
 "nbformat_minor": 5
}
