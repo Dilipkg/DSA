{
 "cells": [
  {
   "cell_type": "code",
   "execution_count": 9,
   "id": "83975f88-38ce-4efa-b1f0-500cd0e98228",
   "metadata": {},
   "outputs": [],
   "source": [
    "Q1.\n",
    "def threesum(nums,target):\n",
    "    nums.sort()\n",
    "    closestSum=float('inf')\n",
    "    for i in range(len(nums)-2):\n",
    "        num1= nums[i]\n",
    "        left= i +1\n",
    "        right = len (nums) -1\n",
    "        while left < right:\n",
    "            currentSum = num1+ nums[left]+nums[right]\n",
    "            if currentSum == target:\n",
    "                return target\n",
    "            if abs(currentSum- target)< abs(closestSum - target):\n",
    "                closestSum = currentSum\n",
    "            if currentSum > target:\n",
    "                right -=1\n",
    "            else:\n",
    "                left += 1\n",
    "    return closestSum\n",
    "nums = [-1, 2, 1, -4]\n",
    "target = 1\n",
    "print(threesum(nums, target))"
   ]
  },
  {
   "cell_type": "code",
   "execution_count": 12,
   "id": "c337b594-a9ed-454a-a4bd-93236a4a9c26",
   "metadata": {},
   "outputs": [
    {
     "name": "stdout",
     "output_type": "stream",
     "text": [
      "[[-2, -1, 1, 2], [-2, 0, 0, 2], [-1, 0, 0, 1]]\n"
     ]
    }
   ],
   "source": [
    "Q2.\n",
    "def fourSum(nums, target):\n",
    "    nums.sort()\n",
    "    result = []\n",
    "\n",
    "    for i in range(len(nums) - 3):\n",
    "        if i > 0 and nums[i] == nums[i - 1]:\n",
    "            continue\n",
    "\n",
    "        for j in range(i + 1, len(nums) - 2):\n",
    "            if j > i + 1 and nums[j] == nums[j - 1]:\n",
    "                continue\n",
    "\n",
    "            left = j + 1\n",
    "            right = len(nums) - 1\n",
    "\n",
    "            while left < right:\n",
    "                currentSum = nums[i] + nums[j] + nums[left] + nums[right]\n",
    "                if currentSum == target:\n",
    "                    result.append([nums[i], nums[j], nums[left], nums[right]])\n",
    "\n",
    "                    while left < right and nums[left] == nums[left + 1]:\n",
    "                        left += 1\n",
    "                    while left < right and nums[right] == nums[right - 1]:\n",
    "                        right -= 1\n",
    "\n",
    "                    left += 1\n",
    "                    right -= 1\n",
    "                elif currentSum < target:\n",
    "                    left += 1\n",
    "                else:\n",
    "                    right -= 1\n",
    "\n",
    "    return result\n",
    "nums = [1, 0, -1, 0, -2, 2]\n",
    "target = 0\n",
    "print(fourSum(nums, target))\n"
   ]
  },
  {
   "cell_type": "code",
   "execution_count": 14,
   "id": "87d6f563-ba22-4a93-b0a5-fa05f1ca13df",
   "metadata": {},
   "outputs": [
    {
     "name": "stdout",
     "output_type": "stream",
     "text": [
      "[1, 4, 2]\n"
     ]
    }
   ],
   "source": [
    "Q3.\n",
    "def nextPermutation(nums):\n",
    "    i = len(nums) - 2\n",
    "    while i >= 0 and nums[i] >= nums[i+1]:\n",
    "        i -= 1\n",
    "\n",
    "    if i >= 0:\n",
    "        j = len(nums) - 1\n",
    "        while j > i and nums[j] <= nums[i]:\n",
    "            j -= 1\n",
    "\n",
    "        nums[i], nums[j] = nums[j], nums[i]\n",
    "\n",
    "    left = i + 1\n",
    "    right = len(nums) - 1\n",
    "    while left < right:\n",
    "        nums[left], nums[right] = nums[right], nums[left]\n",
    "        left += 1\n",
    "        right -= 1\n",
    "\n",
    "    return nums\n",
    "nums = [1, 2, 3]\n",
    "print(nextPermutation(nums))"
   ]
  },
  {
   "cell_type": "code",
   "execution_count": 30,
   "id": "fa8e0d73-4a34-4fac-8555-279e61fb7dce",
   "metadata": {},
   "outputs": [
    {
     "name": "stdout",
     "output_type": "stream",
     "text": [
      "2\n"
     ]
    }
   ],
   "source": [
    "Q4.\n",
    "def search(nums,target):\n",
    "    left=0\n",
    "    right=len(nums)-1\n",
    "    while left <= right:\n",
    "        mid=left+(right - left)//2\n",
    "        if nums[mid] == target:\n",
    "            return mid\n",
    "        elif nums[mid] > target:\n",
    "            right = mid -1\n",
    "        else:\n",
    "            left=mid+1\n",
    "    return left\n",
    "nums = [1, 3, 5, 6]\n",
    "target = 5\n",
    "print(search(nums, target))"
   ]
  },
  {
   "cell_type": "code",
   "execution_count": 36,
   "id": "78776e1b-52a2-46f3-b409-08a268ccb3f4",
   "metadata": {},
   "outputs": [
    {
     "name": "stdout",
     "output_type": "stream",
     "text": [
      "[1, 2, 4]\n"
     ]
    }
   ],
   "source": [
    "Q5.\n",
    "digits = [1, 2, 3]\n",
    "def pluse(digits):\n",
    "    string=\" \"\n",
    "    for num in digits:\n",
    "        string += str(num)\n",
    "    temp = str(int(string) +1)\n",
    "    return [int(temp[i]) for i in range(len(temp))]\n",
    "        \n",
    "print(pluse(digits))        "
   ]
  },
  {
   "cell_type": "code",
   "execution_count": 37,
   "id": "47c712ae-7337-482c-ba93-b4641a2483f4",
   "metadata": {},
   "outputs": [
    {
     "name": "stdout",
     "output_type": "stream",
     "text": [
      "1\n"
     ]
    }
   ],
   "source": [
    "Q6.\n",
    "def singleNumber(nums):\n",
    "    result = 0\n",
    "    for num in nums:\n",
    "        result ^= num\n",
    "    return result\n",
    "nums = [2, 2, 1]\n",
    "print(singleNumber(nums))"
   ]
  },
  {
   "cell_type": "code",
   "execution_count": 45,
   "id": "0d62d4f3-29da-4348-9ca7-91f67393b1f5",
   "metadata": {},
   "outputs": [
    {
     "name": "stdout",
     "output_type": "stream",
     "text": [
      "[[2], [4, 49], [51, 74], [76, 99]]\n"
     ]
    }
   ],
   "source": [
    "Q7.\n",
    "def findMissing(nums, lower, upper):\n",
    "    result = []\n",
    "    start = lower\n",
    "\n",
    "    for num in nums:\n",
    "        if num > start:\n",
    "            if start == num - 1:\n",
    "                result.append([start])\n",
    "            else:\n",
    "                result.append([start, num - 1])\n",
    "        start = num + 1\n",
    "\n",
    "    if upper >= start:\n",
    "        if start == upper:\n",
    "            result.append([start])\n",
    "        else:\n",
    "            result.append([start, upper])\n",
    "\n",
    "    return result\n",
    "\n",
    "nums = [0, 1, 3, 50, 75]\n",
    "lower = 0\n",
    "upper = 99\n",
    "print(findMissing(nums, lower, upper))\n"
   ]
  },
  {
   "cell_type": "code",
   "execution_count": 46,
   "id": "81a4254a-288e-4db1-a0dc-c42a1e645f97",
   "metadata": {},
   "outputs": [
    {
     "name": "stdout",
     "output_type": "stream",
     "text": [
      "False\n"
     ]
    }
   ],
   "source": [
    "def Attend(intervals):\n",
    "    intervals.sort(key=lambda x: x[0])  \n",
    "    for i in range(1, len(intervals)):\n",
    "        if intervals[i][0] < intervals[i-1][1]:\n",
    "            return False\n",
    "\n",
    "    return True\n",
    "intervals = [[0, 30], [5, 10], [15, 20]]\n",
    "print(Attend(intervals))\n"
   ]
  },
  {
   "cell_type": "code",
   "execution_count": null,
   "id": "7b40e931-f418-4019-b627-5a59f80038f2",
   "metadata": {},
   "outputs": [],
   "source": []
  }
 ],
 "metadata": {
  "kernelspec": {
   "display_name": "Python 3 (ipykernel)",
   "language": "python",
   "name": "python3"
  },
  "language_info": {
   "codemirror_mode": {
    "name": "ipython",
    "version": 3
   },
   "file_extension": ".py",
   "mimetype": "text/x-python",
   "name": "python",
   "nbconvert_exporter": "python",
   "pygments_lexer": "ipython3",
   "version": "3.10.8"
  }
 },
 "nbformat": 4,
 "nbformat_minor": 5
}
