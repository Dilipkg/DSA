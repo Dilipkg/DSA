{
 "cells": [
  {
   "cell_type": "markdown",
   "id": "ff88ae7d-130c-4228-9fdc-4a8f242e031d",
   "metadata": {},
   "source": [
    "Q1.\n",
    "nums=[2,7,11,15]\n",
    "target=9\n",
    "class solve:\n",
    "    def two_sum(self, nums,target):\n",
    "        for i in range(len(nums)):\n",
    "            for j in range(i+1, len(nums)):\n",
    "                if nums[j]==target -nums[i]:\n",
    "                    return [i,j]\n",
    "obj=solve()\n",
    "result= obj.two_sum(nums,target)\n",
    "print(result)"
   ]
  },
  {
   "cell_type": "markdown",
   "id": "ee36ebc5-8d61-4e66-9f27-50ec6369aeee",
   "metadata": {},
   "source": [
    "Q2.\n",
    "nums=[3,2,2,3]\n",
    "val = 3  \n",
    "class Solution:\n",
    "    def  recall(self,nums,val):\n",
    "        k=0\n",
    "        for i in range(len(nums)):\n",
    "            if nums [i] != val:\n",
    "                nums[k] == nums[i]\n",
    "                k += 1\n",
    "        return k\n",
    "    \n",
    "  \n",
    "    \n",
    "obj1=Solution()\n",
    "result=obj1.recall(nums,val)\n",
    "print(result)"
   ]
  },
  {
   "cell_type": "markdown",
   "id": "1a144965-9a49-40d6-83e1-a4a9e17f04a4",
   "metadata": {},
   "source": [
    "Q3.\n",
    "class Solution:\n",
    "    def searchInsert(self, nums, target):\n",
    "        left,right=0,len(nums)-1\n",
    "        while left<=right:\n",
    "            mid=(left+right)//2\n",
    "            if nums[mid]==target:\n",
    "                return mid\n",
    "            elif nums[mid]<target:\n",
    "                left=mid+1\n",
    "            else:\n",
    "                right=mid-1\n",
    "        return left\n",
    "    \n",
    "nums = [1,3,5,6]\n",
    "target = 5 \n",
    "\n",
    "obj=Solution()\n",
    "result= obj.searchInsert(nums,target)\n",
    "print(result)"
   ]
  },
  {
   "cell_type": "markdown",
   "id": "9e401eb2-4484-4d57-a830-2fa3086e5b22",
   "metadata": {},
   "source": [
    "Q4.\n",
    "digits = [1,2,3]\n",
    "\n",
    "class Solution:\n",
    "    def plusOne(self, digits):\n",
    "        strings = \"\"\n",
    "        for number in digits:\n",
    "            strings += str(number)\n",
    "\n",
    "        temp = str(int(strings) +1)\n",
    "\n",
    "        return [int(temp[i]) for i in range(len(temp))]\n",
    "obj=Solution()\n",
    "result= obj.plusOne(digits)\n",
    "print(result)"
   ]
  },
  {
   "cell_type": "markdown",
   "id": "501a33a4-7191-4af8-82ee-2b4d6672963a",
   "metadata": {},
   "source": [
    "Q5.\n",
    "def merge(nums1, m, nums2, n):\n",
    "    p1 = m - 1\n",
    "    p2 = n - 1\n",
    "    p = m + n - 1\n",
    "\n",
    "    while p1 >= 0 and p2 >= 0:\n",
    "        if nums1[p1] > nums2[p2]:\n",
    "            nums1[p] = nums1[p1]\n",
    "            p1 -= 1\n",
    "        else:\n",
    "            nums1[p] = nums2[p2]\n",
    "            p2 -= 1\n",
    "        p -= 1\n",
    "\n",
    "    nums1[:p2 + 1] = nums2[:p2 + 1]\n",
    "\n",
    "\n",
    "nums1 = [1, 2, 3, 0, 0, 0]\n",
    "m = 3\n",
    "nums2 = [2, 5, 6]\n",
    "n = 3\n",
    "merge(nums1, m, nums2, n)\n",
    "print(nums1)\n"
   ]
  },
  {
   "cell_type": "markdown",
   "id": "b2ce5b2f-5a18-4d73-bb2b-2335c46a643e",
   "metadata": {},
   "source": [
    "Q6.\n",
    "def Dublicate (nums):\n",
    "    seen=set()\n",
    "    for num in nums:\n",
    "        if num in seen:\n",
    "            return True\n",
    "        seen.add(num)\n",
    "    return False\n",
    "nums= [1,2,3,1]\n",
    "result=Dublicate (nums)\n",
    "print(result)"
   ]
  },
  {
   "cell_type": "code",
   "execution_count": 8,
   "id": "3d0d2372-d843-4ce1-9033-1817295f1dcd",
   "metadata": {},
   "outputs": [
    {
     "name": "stdout",
     "output_type": "stream",
     "text": [
      "[1, 3, 12, 0, 0]\n"
     ]
    }
   ],
   "source": [
    "Q7.\n",
    "def move(nums):\n",
    "    zeroindex=0\n",
    "    for i in range(len(nums)):\n",
    "        if nums[i] !=0:\n",
    "            nums[i],nums[zeroindex]=nums[zeroindex],nums[i]\n",
    "            zeroindex +=1\n",
    "nums = [0, 1, 0, 3, 12]\n",
    "move(nums)\n",
    "print(nums)    "
   ]
  },
  {
   "cell_type": "code",
   "execution_count": 1,
   "id": "de7f4705-e9c6-48f5-9c91-f00c97240128",
   "metadata": {},
   "outputs": [
    {
     "name": "stdout",
     "output_type": "stream",
     "text": [
      "[2, 3]\n"
     ]
    }
   ],
   "source": [
    "def findErrorNums(nums):\n",
    "    xorResult = 0\n",
    "    n = len(nums)\n",
    "\n",
    "   \n",
    "    for i, num in enumerate(nums):\n",
    "        xorResult ^= num\n",
    "        xorResult ^= i + 1\n",
    "    rightmostBit = xorResult & -xorResult\n",
    "    num1 = 0\n",
    "    num2 = 0\n",
    "    for num in nums:\n",
    "        if num & rightmostBit:\n",
    "            num1 ^= num\n",
    "        else:\n",
    "            num2 ^= num\n",
    "    for i in range(1, n + 1):\n",
    "        if i & rightmostBit:\n",
    "            num1 ^= i\n",
    "        else:\n",
    "            num2 ^= i\n",
    "    for num in nums:\n",
    "        if num == num1:\n",
    "            return [num1, num2]\n",
    "        if num == num2:\n",
    "            return [num2, num1]\n",
    "nums = [1, 2, 2, 4]\n",
    "result = findErrorNums(nums)\n",
    "print(result)\n"
   ]
  },
  {
   "cell_type": "code",
   "execution_count": null,
   "id": "45155111-bbce-412e-b0e1-739a89f55332",
   "metadata": {},
   "outputs": [],
   "source": []
  }
 ],
 "metadata": {
  "kernelspec": {
   "display_name": "Python 3 (ipykernel)",
   "language": "python",
   "name": "python3"
  },
  "language_info": {
   "codemirror_mode": {
    "name": "ipython",
    "version": 3
   },
   "file_extension": ".py",
   "mimetype": "text/x-python",
   "name": "python",
   "nbconvert_exporter": "python",
   "pygments_lexer": "ipython3",
   "version": "3.10.8"
  }
 },
 "nbformat": 4,
 "nbformat_minor": 5
}
